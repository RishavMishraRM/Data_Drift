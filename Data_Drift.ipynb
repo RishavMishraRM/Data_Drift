{
 "cells": [
  {
   "cell_type": "code",
   "execution_count": 1,
   "id": "0a7c3279",
   "metadata": {
    "ExecuteTime": {
     "end_time": "2022-06-22T17:12:33.157628Z",
     "start_time": "2022-06-22T17:12:33.149656Z"
    }
   },
   "outputs": [],
   "source": [
    "new_samples = 500\n",
    "verbose = False"
   ]
  },
  {
   "cell_type": "code",
   "execution_count": 2,
   "id": "bc855825",
   "metadata": {
    "ExecuteTime": {
     "end_time": "2022-06-22T17:13:10.804546Z",
     "start_time": "2022-06-22T17:13:09.991431Z"
    }
   },
   "outputs": [],
   "source": [
    "import pandas as pd\n",
    "from sklearn.datasets import fetch_california_housing"
   ]
  },
  {
   "cell_type": "code",
   "execution_count": 3,
   "id": "21b19223",
   "metadata": {
    "ExecuteTime": {
     "end_time": "2022-06-22T17:13:26.070505Z",
     "start_time": "2022-06-22T17:13:21.898375Z"
    }
   },
   "outputs": [],
   "source": [
    "from evidently.dashboard import Dashboard\n",
    "from evidently.pipeline.column_mapping import ColumnMapping\n",
    "from evidently.dashboard.tabs import DataDriftTab, NumTargetDriftTab\n",
    "from evidently.model_profile import Profile\n",
    "from evidently.model_profile.sections import DataDriftProfileSection, NumTargetDriftProfileSection"
   ]
  },
  {
   "cell_type": "code",
   "execution_count": 4,
   "id": "57d42366",
   "metadata": {
    "ExecuteTime": {
     "end_time": "2022-06-22T17:14:01.095179Z",
     "start_time": "2022-06-22T17:14:01.082164Z"
    }
   },
   "outputs": [],
   "source": [
    "import warnings\n",
    "warnings.filterwarnings('ignore')\n",
    "warnings.simplefilter('ignore')"
   ]
  },
  {
   "cell_type": "code",
   "execution_count": 5,
   "id": "47180f7c",
   "metadata": {
    "ExecuteTime": {
     "end_time": "2022-06-22T17:14:44.332839Z",
     "start_time": "2022-06-22T17:14:44.064940Z"
    }
   },
   "outputs": [],
   "source": [
    "ca = fetch_california_housing(as_frame=True)\n",
    "ca_frame = ca.frame"
   ]
  },
  {
   "cell_type": "code",
   "execution_count": 6,
   "id": "28bdf335",
   "metadata": {
    "ExecuteTime": {
     "end_time": "2022-06-22T17:15:14.576776Z",
     "start_time": "2022-06-22T17:15:14.568781Z"
    }
   },
   "outputs": [],
   "source": [
    "target = 'MedHouseVal'\n",
    "numerical_features = ['MedInc', 'HouseAge', 'AveRooms', 'AveBedrms', 'Population', 'AveOccup',\n",
    "                      'Latitude', 'Longitude']\n",
    "categorical_features = []\n",
    "features = numerical_features "
   ]
  },
  {
   "cell_type": "code",
   "execution_count": 7,
   "id": "39f87366",
   "metadata": {
    "ExecuteTime": {
     "end_time": "2022-06-22T17:15:37.679668Z",
     "start_time": "2022-06-22T17:15:37.663657Z"
    }
   },
   "outputs": [],
   "source": [
    "column_mapping = ColumnMapping()\n",
    "column_mapping.target = target\n",
    "column_mapping.numerical_features = numerical_features"
   ]
  },
  {
   "cell_type": "code",
   "execution_count": 8,
   "id": "8ca31958",
   "metadata": {
    "ExecuteTime": {
     "end_time": "2022-06-22T17:15:51.777289Z",
     "start_time": "2022-06-22T17:15:51.752279Z"
    }
   },
   "outputs": [],
   "source": [
    "ref_data_sample = ca_frame[:15000].sample(1000, random_state=0)\n",
    "prod_data_sample = ca_frame[15000:].sample(new_samples, random_state=0)"
   ]
  },
  {
   "cell_type": "code",
   "execution_count": 9,
   "id": "b1379ef7",
   "metadata": {
    "ExecuteTime": {
     "end_time": "2022-06-22T17:16:00.292599Z",
     "start_time": "2022-06-22T17:16:00.275610Z"
    }
   },
   "outputs": [],
   "source": [
    "ca_data_and_target_drift_dashboard = Dashboard(tabs=[DataDriftTab(verbose_level=verbose), \n",
    "                                                     NumTargetDriftTab(verbose_level=verbose)])"
   ]
  },
  {
   "cell_type": "code",
   "execution_count": null,
   "id": "a7011713",
   "metadata": {},
   "outputs": [],
   "source": []
  }
 ],
 "metadata": {
  "kernelspec": {
   "display_name": "Python 3 (ipykernel)",
   "language": "python",
   "name": "python3"
  },
  "language_info": {
   "codemirror_mode": {
    "name": "ipython",
    "version": 3
   },
   "file_extension": ".py",
   "mimetype": "text/x-python",
   "name": "python",
   "nbconvert_exporter": "python",
   "pygments_lexer": "ipython3",
   "version": "3.9.7"
  },
  "toc": {
   "base_numbering": 1,
   "nav_menu": {},
   "number_sections": true,
   "sideBar": true,
   "skip_h1_title": false,
   "title_cell": "Table of Contents",
   "title_sidebar": "Contents",
   "toc_cell": false,
   "toc_position": {},
   "toc_section_display": true,
   "toc_window_display": false
  }
 },
 "nbformat": 4,
 "nbformat_minor": 5
}
